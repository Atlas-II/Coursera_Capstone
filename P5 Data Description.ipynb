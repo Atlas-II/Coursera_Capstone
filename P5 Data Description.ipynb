{
    "cells": [
        {
            "cell_type": "markdown",
            "metadata": {
                "collapsed": true
            },
            "source": "### The Battle of Neighborhoods | Data Description"
        },
        {
            "cell_type": "markdown",
            "metadata": {},
            "source": "#### Data Description:"
        },
        {
            "cell_type": "markdown",
            "metadata": {},
            "source": "We will be using the list of postal codes of Canada and then get the Latitude-Longitude values of these using GeoPy.\n\nPostal codes of Canada Wikipedia Link: https://en.wikipedia.org/wiki/List_of_postal_codes_of_Canada:_M\n\nSince we have already done this previously, we will directly use that file."
        },
        {
            "cell_type": "markdown",
            "metadata": {},
            "source": "#### Foursquare Location Data:"
        },
        {
            "cell_type": "markdown",
            "metadata": {},
            "source": "To get data about different places, we will use the FourSquare API.\n\nFoursquare is a location data provider with information about all manner of venues and events within an area of interest including venue names, locations, menus, phots and reviews of the venue. If need be, we can even read the reviewers other reviews. This function though is limited in the free-to-use account.\n\nThis amount of information is sufficient for us, so we will use this as the sole data source."
        },
        {
            "cell_type": "markdown",
            "metadata": {},
            "source": "After finding the list of neighborhoods, we then connect to the Foursquare API to gather information about venues in each and every neighborhood.\nFor each neighborhood, we have chosen the radius parameter to be 100 meter.\n\nThe data retrieved from Foursquare contained information of venues within a specified distance of the longitude and latitude of the postcodes. The information obtained per venue as follows:\n\n1. Neighborhood\n2. Neighborhood Latitude\n3. Neighborhood Longitude\n4. Venue\n5. Name of the venue e.g. the name of a store or restaurant\n6. Venue Latitude\n7. Venue Longitude\n8. Venue Category"
        }
    ],
    "metadata": {
        "kernelspec": {
            "display_name": "Python 3.7",
            "language": "python",
            "name": "python3"
        },
        "language_info": {
            "codemirror_mode": {
                "name": "ipython",
                "version": 3
            },
            "file_extension": ".py",
            "mimetype": "text/x-python",
            "name": "python",
            "nbconvert_exporter": "python",
            "pygments_lexer": "ipython3",
            "version": "3.7.9"
        }
    },
    "nbformat": 4,
    "nbformat_minor": 1
}