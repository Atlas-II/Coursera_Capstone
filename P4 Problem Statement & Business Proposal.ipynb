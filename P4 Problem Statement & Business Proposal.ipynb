{
    "cells": [
        {
            "cell_type": "markdown",
            "metadata": {},
            "source": "## The Battle of Neighborhoods | Problem Statement & Business Proposal"
        },
        {
            "cell_type": "markdown",
            "metadata": {},
            "source": "### Introduction"
        },
        {
            "cell_type": "markdown",
            "metadata": {},
            "source": "\nThe purpose of this project is to make a tool which will help people explore their neighbourhood. For this case we have used the city of Toronto.\n\nThroughout the world, people travel, move homes, set up businesses. Location and the facilities near that location are very important for this. This project is for people looking for locations like Cafes, Grocery stores, Schools, Shopping Centres, Hardware stores, Hospitals, Clubs for like minded people.\n\nThis project aims to create an analysis of features for people migrating to Toronto to search for the best neighborhood through comparative analysis between the neighborhoods of Toronto. The features for comparison include median housing price, nearby school ratings, crime rates, road connectivity, weather conditions, emergency facilities, water resources and recreational facilities.\n\nIt will help people to get awaren of the area they are moving to and find the best possible location for their intended purpose."
        },
        {
            "cell_type": "markdown",
            "metadata": {},
            "source": "### Problem Statement"
        },
        {
            "cell_type": "markdown",
            "metadata": {},
            "source": "The main aim of this project is to suggest the best possible neighbourhood in Toronto given the parameters the user provides like Housing prices, crime rate, emergency facilities.\n"
        },
        {
            "cell_type": "markdown",
            "metadata": {},
            "source": "### The Location:"
        },
        {
            "cell_type": "markdown",
            "metadata": {},
            "source": "Toronto, the capital of the province of Ontario, is a major Canadian city along Lake Ontario\u2019s northwestern shore. It's a dynamic metropolis with a core of soaring skyscrapers. It is a popular destination for immigrants, both domestic and international due to the opportunities it affords people.\n"
        },
        {
            "cell_type": "markdown",
            "metadata": {},
            "source": "### Foursquare API:"
        },
        {
            "cell_type": "markdown",
            "metadata": {},
            "source": "This project uses the Foursquare API due to the accuracy, updation frequency, large database of places and the features of its Places API to perform functions such as location search, nearby places and details.\n\nWe will be using the developer option which allows us to make a limited (but sufficient) number of API calls."
        },
        {
            "cell_type": "markdown",
            "metadata": {},
            "source": "### Work Flow:"
        },
        {
            "cell_type": "markdown",
            "metadata": {},
            "source": "The Foursquare API will be used to mine the features of nearby places. Due to limitations placed on the free-to-use account, the number of places will be set to 100 and the radius parameter will be set to 100 metres.\n"
        },
        {
            "cell_type": "markdown",
            "metadata": {},
            "source": "### Clustering Approach:"
        },
        {
            "cell_type": "markdown",
            "metadata": {},
            "source": "To compare the similarities of two cities, we decided to explore neighborhoods, segment them, and group them into clusters to find similar neighborhoods in a big cities like New York and Toronto. To be able to do that, we need to cluster data using unsupervised machine learning: k-means clustering algorithm in this case."
        },
        {
            "cell_type": "markdown",
            "metadata": {},
            "source": "### Libraries used"
        },
        {
            "cell_type": "markdown",
            "metadata": {
                "collapsed": true
            },
            "source": "Pandas: For creating and manipulating dataframes.\n\nFolium: Python visualization library which would be used to visualize the neighborhoods cluster distribution by using an interactive leaflet map.\n\nScikit Learn: For importing k-means clustering.\n\nJSON: Library to handle JSON files.\n\nXML: To separate data from presentation and XML stores data in plain text format.\n\nGeocoder: To retrieve location Data.\n\nBeautiful Soup and Requests: To scrape data from websites.\n\nRequests: To call APIs\n\nMatplotlib: To plot graphics in Python."
        }
    ],
    "metadata": {
        "kernelspec": {
            "display_name": "Python 3.7",
            "language": "python",
            "name": "python3"
        },
        "language_info": {
            "codemirror_mode": {
                "name": "ipython",
                "version": 3
            },
            "file_extension": ".py",
            "mimetype": "text/x-python",
            "name": "python",
            "nbconvert_exporter": "python",
            "pygments_lexer": "ipython3",
            "version": "3.7.9"
        }
    },
    "nbformat": 4,
    "nbformat_minor": 1
}